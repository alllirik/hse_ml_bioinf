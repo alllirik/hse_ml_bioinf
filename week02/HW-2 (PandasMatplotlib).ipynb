{
 "cells": [
  {
   "cell_type": "markdown",
   "metadata": {},
   "source": [
    "# Домашнее задание 2\n",
    "\n",
    "Данное домашнее задание будет посвящено работе с основными методами библиотек `pandas` и `matplotlib`.\n",
    "\n",
    "Баллы за блок/задание указаны в квадратных скобках.\n",
    "\n",
    "[Форма для отзывов и пожеланий](https://forms.gle/pHrr9icXxKopHh6S6)"
   ]
  },
  {
   "cell_type": "markdown",
   "metadata": {},
   "source": [
    "Импортируем библиотеки:"
   ]
  },
  {
   "cell_type": "code",
   "execution_count": 6,
   "metadata": {},
   "outputs": [],
   "source": [
    "from sklearn import datasets\n",
    "import pandas as pd\n",
    "import numpy as np"
   ]
  },
  {
   "cell_type": "markdown",
   "metadata": {},
   "source": [
    "Для данной работы мы воспользуемся одним из \"игрушечных\" датасетов из библиотеки `sklearn`, содержащий в себе информацию о 442 пациентах с диабетом. \n",
    "\n",
    "Доступ к датасетам из `sklearn` можно осуществлять через встроенные функции, скачивать внешние файлы не требуется. \n",
    "\n",
    "Загрузим датасет и прочитаем его описание:"
   ]
  },
  {
   "cell_type": "code",
   "execution_count": null,
   "metadata": {},
   "outputs": [],
   "source": [
    "diabetes = datasets.load_diabetes()\n",
    "print(diabetes.DESCR)"
   ]
  },
  {
   "cell_type": "markdown",
   "metadata": {},
   "source": [
    "Заметим, что это не оригинальный датасет, исходные признаки уже были обработаны:\n",
    "```\n",
    "Each of these 10 feature variables have been mean centered and scaled by\n",
    "the standard deviation times the square root of `n_samples`\n",
    "```\n",
    "\n",
    "Для текущего задания нам это не подходит, в связи с чем скачаем исходные данные. Найти их можно, пройдя по ссылке, указанной в описание под графой `Source URL`. Однако, для удобства, ниже расположена ячейка, скачивающая файл через автоматически (можно через `wget`, но он не всегда работает из юпитера)."
   ]
  },
  {
   "cell_type": "code",
   "execution_count": null,
   "metadata": {},
   "outputs": [],
   "source": [
    "import requests # если библиотека отсутствует, установите через pip install\n",
    "\n",
    "url = 'https://www4.stat.ncsu.edu/~boos/var.select/diabetes.tab.txt'\n",
    "\n",
    "response = requests.get(url)\n",
    "if response.status_code == 200:\n",
    "    with open('diabetes.tab.txt', 'wb') as file:\n",
    "        file.write(response.content)\n",
    "    print(\"You downloaded diabetes :)\")\n",
    "else:\n",
    "    print(\"Diabetes was NOT loaded, please do it manually\")\n"
   ]
  },
  {
   "cell_type": "code",
   "execution_count": 57,
   "metadata": {},
   "outputs": [],
   "source": [
    "# Укажите путь до файла тут\n",
    "filepath = \"diabetes.tab.txt\"\n",
    "df = pd.read_table(filepath)"
   ]
  },
  {
   "cell_type": "markdown",
   "metadata": {},
   "source": [
    "Теперь мы можем приступать непосредственно к практике."
   ]
  },
  {
   "cell_type": "markdown",
   "metadata": {},
   "source": [
    "### [2] Блок 1. Смотрим и подправляем датасет."
   ]
  },
  {
   "cell_type": "markdown",
   "metadata": {},
   "source": [
    "Выведите первые и последние пять строчек датасета:"
   ]
  },
  {
   "cell_type": "code",
   "execution_count": null,
   "metadata": {},
   "outputs": [],
   "source": [
    "### ╰( ͡° ͜ʖ ͡° )つ──☆*:・ﾟ твой код"
   ]
  },
  {
   "cell_type": "markdown",
   "metadata": {},
   "source": [
    "Наблюдаем, что некоторые признаки имеют условное название `s#`. Переименуйте эти столбцы в соответсвии с выведенным выше описанием датасета (tc, ldl, ...)"
   ]
  },
  {
   "cell_type": "code",
   "execution_count": 70,
   "metadata": {},
   "outputs": [],
   "source": [
    "### ╰( ͡° ͜ʖ ͡° )つ──☆*:・ﾟ твой код"
   ]
  },
  {
   "cell_type": "markdown",
   "metadata": {},
   "source": [
    "Выведите тип данных каждой колонки:"
   ]
  },
  {
   "cell_type": "code",
   "execution_count": null,
   "metadata": {},
   "outputs": [],
   "source": [
    "### ╰( ͡° ͜ʖ ͡° )つ──☆*:・ﾟ твой код"
   ]
  },
  {
   "cell_type": "markdown",
   "metadata": {},
   "source": [
    "Выведите информацию о датасете, используя `df.info()`. Убедитесь, что отсутствуют `NaN` значения. Посчитайте количество `NaN` значений вручную, используя функции `.isna()` и `.sum()`."
   ]
  },
  {
   "cell_type": "code",
   "execution_count": null,
   "metadata": {},
   "outputs": [],
   "source": [
    "### ╰( ͡° ͜ʖ ͡° )つ──☆*:・ﾟ твой код"
   ]
  },
  {
   "cell_type": "markdown",
   "metadata": {},
   "source": [
    "В переменной `sex` указываются закодированные нотации для гендера: 1 и 2.\\\n",
    "В описании к датасету не указываются, какие гендеры под кем подразумеваются.\\\n",
    "Для условности, будем подразумевать, что 1 - female, 2 - male."
   ]
  },
  {
   "cell_type": "markdown",
   "metadata": {},
   "source": [
    "Давайте переименуем их соответствующим образом. В столбец `sex` замените значения `1` на `female`, `2` на `male`."
   ]
  },
  {
   "cell_type": "code",
   "execution_count": null,
   "metadata": {},
   "outputs": [],
   "source": [
    "### ╰( ͡° ͜ʖ ͡° )つ──☆*:・ﾟ твой код"
   ]
  },
  {
   "cell_type": "markdown",
   "metadata": {},
   "source": [
    "### [2] Блок 2. Простые статистики."
   ]
  },
  {
   "cell_type": "markdown",
   "metadata": {},
   "source": [
    "Посчитайте количество мужчин и женщин в датасете."
   ]
  },
  {
   "cell_type": "code",
   "execution_count": null,
   "metadata": {},
   "outputs": [],
   "source": [
    "### ╰( ͡° ͜ʖ ͡° )つ──☆*:・ﾟ твой код"
   ]
  },
  {
   "cell_type": "markdown",
   "metadata": {},
   "source": [
    "Дайте ответы на следующие вопросы:\n",
    "\n",
    "* Сколько человек имеют BMI выше 30?\n",
    "\n",
    "* Сколько мужчин имеют BMI выше 30?\n",
    "\n",
    "* Посчитайте средний BMI для каждого пола, используя метод `groupby()`.\n",
    "\n",
    "* Сколько женщин старше 60 имеют артериальное давление выше среднего а.д. всех женщин?\n",
    "\n"
   ]
  },
  {
   "cell_type": "code",
   "execution_count": null,
   "metadata": {},
   "outputs": [],
   "source": [
    "### ╰( ͡° ͜ʖ ͡° )つ──☆*:・ﾟ твой код"
   ]
  },
  {
   "cell_type": "markdown",
   "metadata": {},
   "source": [
    "### Блок 3. Построение графиков."
   ]
  },
  {
   "cell_type": "markdown",
   "metadata": {},
   "source": [
    "__[1]__ Отобразите на графике распределение BMI для мужчин и женщин отдельно. Пока что можно не импортировать `matplotlib`, если воспользоваться встроенным в `pandas` методом `hist`. Графики следует делать читабельными и опрятными: например, распределения BMI по гендерам будут накладываться друг на друга, поэтому сделайте их полупрозрачными (найдите в документации, какой параметр за это отвечает). Также добавьте легенду."
   ]
  },
  {
   "cell_type": "code",
   "execution_count": null,
   "metadata": {},
   "outputs": [],
   "source": [
    "### ╰( ͡° ͜ʖ ͡° )つ──☆*:・ﾟ твой код"
   ]
  },
  {
   "cell_type": "markdown",
   "metadata": {},
   "source": [
    "Глядя на получившиеся распределения, можно ли утверждать, что между ними есть эмпирические различия? Если да, то какие? Как бы это можно было бы проверить статистически?\n",
    "\n",
    "Ваш ответ:"
   ]
  },
  {
   "cell_type": "markdown",
   "metadata": {},
   "source": [
    "__[1]__ Теперь, используя библиотеку `Matplotlib`, постройте `scatterplot`, отображающий зависимость артериального давления от BMI. На нём выделите тех людей, чей уровень глюкозы превышает медиану по датасету (например, отдельным цветом точек и/или жирным контуром).\\\n",
    "Не забудьте добавить:\n",
    "* Легенду\n",
    "* Название графика\n",
    "* Подписи осей\n",
    "* Сетку (grid)"
   ]
  },
  {
   "cell_type": "code",
   "execution_count": null,
   "metadata": {},
   "outputs": [],
   "source": [
    "### ╰( ͡° ͜ʖ ͡° )つ──☆*:・ﾟ твой код"
   ]
  },
  {
   "cell_type": "markdown",
   "metadata": {},
   "source": [
    "__[1]__ Используя метод `plt.subplots` постройте гистограммы для всех 10-ти признаков из датасета (таргетную колонку `Y` включать не нужно):"
   ]
  },
  {
   "cell_type": "code",
   "execution_count": null,
   "metadata": {},
   "outputs": [],
   "source": [
    "### ╰( ͡° ͜ʖ ͡° )つ──☆*:・ﾟ твой код"
   ]
  },
  {
   "cell_type": "markdown",
   "metadata": {},
   "source": [
    "Разбейте переменную `Age` на бины, например, с помощью `pd.cut`. Результатом должен стать новый категориальный признак (столбец в датафрейме), отражающий различные возрастные группы (например, 18-30, 31-40, 41-50, etc.). Убедитесь, что включили все возрасты (в новом столбце не должно быть NaN'ов)."
   ]
  },
  {
   "cell_type": "code",
   "execution_count": null,
   "metadata": {},
   "outputs": [],
   "source": [
    "# У вас должны быть как и список с границами бинов, так и названия для бинов\n",
    "bins = ...\n",
    "labels = ...\n",
    "df['Age_Group'] = pd.cut(...)"
   ]
  },
  {
   "cell_type": "markdown",
   "metadata": {},
   "source": [
    "__[1]__ Создайте `violinplot`, показывающее распределение уровня глюкозы для полученных выше возрастных групп. "
   ]
  },
  {
   "cell_type": "code",
   "execution_count": null,
   "metadata": {},
   "outputs": [],
   "source": [
    "### ╰( ͡° ͜ʖ ͡° )つ──☆*:・ﾟ твой код"
   ]
  },
  {
   "cell_type": "markdown",
   "metadata": {},
   "source": [
    "Есть ли заметные отличия в полученных распределениях?\n",
    "\n",
    "Ваш ответ:"
   ]
  },
  {
   "cell_type": "markdown",
   "metadata": {},
   "source": [
    "### [2] Блок 4. Матрица корреляций.\n",
    "\n",
    "Заполните пропуски и получите изображение матрицы корреляции.\n",
    "\n",
    "Для этого:\n",
    "* Посчитайте матрицу корреляций\n",
    "* Создайте heatmap при помощи функции `plt.imshow()`\n",
    "* Задайте отметки оси (ticks) и подписи к ним\n",
    "* Добавьте значения корреляции в каждую ячейку\n",
    "\n",
    "Если не понимаете, каким примерно должен получиться итоговым результат, пролистайте ниже до ячейки с вызовом функции из `seaborn`.\n"
   ]
  },
  {
   "cell_type": "code",
   "execution_count": null,
   "metadata": {},
   "outputs": [],
   "source": [
    "# Посчитайте матрицу корреляций\n",
    "correlation_matrix = ...\n",
    "\n",
    "# Создайте heatmap при помощи функции `plt.imshow()`\n",
    "plt.figure(...) \n",
    "plt.imshow(...) \n",
    "plt.colorbar()\n",
    "\n",
    "# Задайте отметки оси (ticks) и подписи к ним\n",
    "# Для создания отметок осей воспользуйтесь np.arange\n",
    "# Отметок столько же, сколько столбцов в датасете\n",
    "ticks = np.arange(...)\n",
    "# Задайте подписи на оси x. Для этого воспользуйтесь полученными выше отметками\n",
    "plt.xticks(..., rotation=45, ha='right') # Подписи повернем на 45 градусов для читаемости\n",
    "# Аналогично для оси y\n",
    "plt.yticks(...)\n",
    "\n",
    "# Добавьте значения корреляции в каждую ячейку\n",
    "# Для этого нужно проитерироваться по всем ячейкам матрицы, что можно сделать двумя циклами\n",
    "for i in range(...):\n",
    "    for j in range(...):\n",
    "        # Текст внутри ячейки - значение из матрицы корреляции\n",
    "        text = f\"{correlation_matrix.iloc[i, j]:.2f}\"\n",
    "        # Вставьте позицию текста и сам текст\n",
    "        plt.text(..., ha='center', va='center', color='black')\n",
    "\n",
    "plt.title(\"Матрица корреляций\")\n",
    "plt.tight_layout() \n",
    "plt.show()"
   ]
  },
  {
   "cell_type": "markdown",
   "metadata": {},
   "source": [
    "Запустите ячейку ниже (предварительно установив `seaborn`, если требуется), и убедитесь, что результате выше всецелом соответствуют тому, что наблюдаете ниже (главное общая структура и значения, цвета/размер шрифта и подобное совпадать не обязаны)"
   ]
  },
  {
   "cell_type": "code",
   "execution_count": null,
   "metadata": {},
   "outputs": [],
   "source": [
    "import seaborn as sns\n",
    "\n",
    "plt.figure(figsize=(10,8))\n",
    "sns.heatmap(correlation_matrix, square=True, annot=True, linewidths=0.25)\n",
    "plt.title(\"Матрица корреляций\")\n",
    "plt.show()"
   ]
  },
  {
   "cell_type": "markdown",
   "metadata": {},
   "source": [
    "Определите, какие признаки имеют ощутимую корреляцию. Логично ли то, что вы наблюдаете, и почему?\n",
    "\n",
    "Ваш ответ:"
   ]
  }
 ],
 "metadata": {
  "kernelspec": {
   "display_name": "Python 3",
   "language": "python",
   "name": "python3"
  },
  "language_info": {
   "codemirror_mode": {
    "name": "ipython",
    "version": 3
   },
   "file_extension": ".py",
   "mimetype": "text/x-python",
   "name": "python",
   "nbconvert_exporter": "python",
   "pygments_lexer": "ipython3",
   "version": "3.10.6"
  }
 },
 "nbformat": 4,
 "nbformat_minor": 2
}
