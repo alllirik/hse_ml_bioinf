{
  "cells": [
    {
      "cell_type": "markdown",
      "id": "364def0d",
      "metadata": {
        "id": "364def0d"
      },
      "source": [
        "---"
      ]
    },
    {
      "cell_type": "markdown",
      "id": "b6f7ed69",
      "metadata": {
        "id": "b6f7ed69"
      },
      "source": [
        "# Introduction\n",
        "\n",
        "In this homework you will:\n",
        "\n",
        "* Recall your skills of data analysis and preprocessing.\n",
        "* Explore the behaviour of different machine learning models.\n",
        "* Try to solve a regression type problem and interpret the results.\n",
        "\n",
        "But first of all, a few notes:\n",
        "\n",
        "* Check the 3rd and 4th seminars for a quick reminder on general rules.\n",
        "* We do not expect you to make a model that makes necessarly good predictions, rather than explain why do you get the results which you get.\n",
        "* We reserve the right to lower the grade for messy code, so keep it clean and make comments about what you do! It is also your responsibility to test your own code.\n",
        "* Remember to submit the feedback! Especially if the homework was too difficult or easy for you.\n",
        "\n",
        "This time, you will do the coding part yourself. That means, you take decisions about EDA, data cleaning, hyperparameters choice, etc. on your own (for the most part, at least)."
      ]
    },
    {
      "cell_type": "markdown",
      "id": "9898dba9",
      "metadata": {
        "id": "9898dba9"
      },
      "source": [
        "Another important mention: your work must be reproducible.\n",
        "It means that it would be possible to run your code and obtain the same results by pressing \"Run All\" button in settings of this notebook. To do so, don't forget to fix the random seed number where possible!"
      ]
    },
    {
      "cell_type": "markdown",
      "id": "9b15a7f7",
      "metadata": {
        "id": "9b15a7f7"
      },
      "source": [
        "# Dataset\n",
        "\n",
        "Today your task will be to understand the relationship between the cholesterol level and its associated factors, such as gender, age, BMI, medical condition and some genomic features. This can be explored by a regression analysis using machine learning methods that we learned in the class.\n",
        "\n",
        "Description of the variables:\n",
        "\n",
        "* DM: diabetes mellitus: 0 = no diabetes, 1 = diabetes\n",
        "* age: Age in years\n",
        "* chol: Serum total cholesterol, mg/dl\n",
        "* BMI: Body-mass index, kg/m2\n",
        "* TG: Serum triglycerides, mg/dl\n",
        "* APOE: Apolipoprotein E genotype, with six genotypes coded 1-6: 1 = e2/e2, 2 = e2/e3, 3 = e2/e4, 4 = e3/e3, 5 = e3/e4, 6 = e4/e4\n",
        "* rs174548: Candidate SNP 1 genotype, chromosome 11, physical position 61,803,876\n",
        ". Coded as the number of minor alleles: 0 = C/C, 1 = C/G, 2 = G/G.\n",
        "* rs4775041: Candidate SNP 2 genotype, chromosome 15, physical position 58,382,496. Coded as the number of minor alleles: 0 = C/C, 1 = C/G, 2 = G/G.\n",
        "* HTN: diagnosed hypertension: 0 = no, 1 = yes\n",
        "* chd: diagnosis of coronary heart disease: 0 = no, 1 = yes\n",
        "\n",
        "Target variable: Serum total cholesterol\n",
        "\n",
        "<font color=#c30>**Disclaimer:**</font> it is expected that you WON'T get good metrics with this dataset. We encourage experimentation with data and models to improve the result, but a low final metric will not affect your grade."
      ]
    },
    {
      "cell_type": "markdown",
      "id": "10f6900d",
      "metadata": {
        "id": "10f6900d"
      },
      "source": [
        "# Tasks <font color=#c30>**[8]**</font>"
      ]
    },
    {
      "cell_type": "markdown",
      "id": "0dcf0ef8",
      "metadata": {
        "id": "0dcf0ef8"
      },
      "source": [
        "### Exploratory Data Analysis <font color=#c30>**[2.5]**</font>"
      ]
    },
    {
      "cell_type": "markdown",
      "id": "1c4aa2e7",
      "metadata": {
        "id": "1c4aa2e7"
      },
      "source": [
        "<font color=#c30>**[0.1]**</font> Before the analysis itself, don't forget to check the features you are working with. Some of them are not very obvious. Google some information on what those features represent, and write it down here:\n",
        "\n",
        "* TG -\n",
        "* APOE -\n",
        "* rs174548 -\n",
        "* rs4775041 -\n",
        "\n",
        "You can (and should!) use this information when interpreting results."
      ]
    },
    {
      "cell_type": "markdown",
      "id": "a47a4cd7",
      "metadata": {
        "id": "a47a4cd7"
      },
      "source": [
        "Download the data:"
      ]
    },
    {
      "cell_type": "code",
      "execution_count": null,
      "id": "10695601",
      "metadata": {
        "id": "10695601"
      },
      "outputs": [],
      "source": [
        "!gdown 1PrtyKo4e_q7jm7lR27CL7VbWVC8vZoWP"
      ]
    },
    {
      "cell_type": "code",
      "execution_count": null,
      "id": "62d0bcd5",
      "metadata": {
        "id": "62d0bcd5"
      },
      "outputs": [],
      "source": [
        "# YOUR CODE HERE ᕦ(ò_óˇ)ᕤ"
      ]
    },
    {
      "cell_type": "markdown",
      "id": "1b3ba08f",
      "metadata": {
        "id": "1b3ba08f"
      },
      "source": [
        "<font color=#c30>**[0.5]**</font> Know your data, make relevant data analysis and explain:\n",
        " * What types of variables there are\n",
        " * Your strategy about NaN values, if any present\n",
        " * Your strategy about categorical columns, if any present"
      ]
    },
    {
      "cell_type": "code",
      "execution_count": null,
      "id": "81cda3ba",
      "metadata": {
        "id": "81cda3ba"
      },
      "outputs": [],
      "source": [
        "# YOUR CODE HERE ᕦ(ò_óˇ)ᕤ"
      ]
    },
    {
      "cell_type": "markdown",
      "id": "a5af08d4",
      "metadata": {
        "id": "a5af08d4"
      },
      "source": [
        "Assuming your data is now certainly clean, you can start looking at the features."
      ]
    },
    {
      "cell_type": "markdown",
      "id": "ea0e3932",
      "metadata": {
        "id": "ea0e3932"
      },
      "source": [
        "<font color=#c30>**[1.75]**</font>\n",
        "* Apply strategies you described above.\n",
        "* Make relevant visualization of features(histograms, boxplots, etc.) and analyze it.\n",
        "* Explore the relationship of features and interpret it if possible.\n",
        "* Deal with outliers and other dataset artifacts, if needed.\n"
      ]
    },
    {
      "cell_type": "code",
      "execution_count": null,
      "id": "501bd407",
      "metadata": {
        "id": "501bd407"
      },
      "outputs": [],
      "source": [
        "# YOUR CODE HERE ᕦ(ò_óˇ)ᕤ"
      ]
    },
    {
      "cell_type": "markdown",
      "id": "47692327",
      "metadata": {
        "id": "47692327"
      },
      "source": [
        "<font color=#c30>**[0.15]**</font> Answer the following questions:\n",
        "\n",
        "* Why can't categorical attributes be encoded with natural numbers?\n",
        "* Would fields like 'id' cause the model (not necessarily linear) to overfit? Why?"
      ]
    },
    {
      "cell_type": "markdown",
      "id": "3d5150c5",
      "metadata": {
        "id": "3d5150c5"
      },
      "source": [
        "### Machine Learning <font color=#c30>**[5.5]**</font>"
      ]
    },
    {
      "cell_type": "markdown",
      "id": "4971f8d2",
      "metadata": {
        "id": "4971f8d2"
      },
      "source": [
        "<font color=#c30>**[0.25]**</font> Split the data into train/test subsets and choose your target performance measure. Explain your choice."
      ]
    },
    {
      "cell_type": "code",
      "execution_count": null,
      "id": "30c301e4",
      "metadata": {
        "id": "30c301e4"
      },
      "outputs": [],
      "source": [
        "# YOUR CODE HERE ᕦ(ò_óˇ)ᕤ"
      ]
    },
    {
      "cell_type": "markdown",
      "id": "5ce42417",
      "metadata": {
        "id": "5ce42417"
      },
      "source": [
        "<font color=#c30>**[0.15]**</font> Answer the following questions:\n",
        "\n",
        "* Why do we need to scale the feature matrix before training machine learning models?\n",
        "* Why do you think we don't produce scaling of One Hot encoded features?"
      ]
    },
    {
      "cell_type": "markdown",
      "id": "0757e627",
      "metadata": {
        "id": "0757e627"
      },
      "source": [
        "<font color=#c30>**[0.25]**</font> Apply transformation to data, if needed. Justfy your choice."
      ]
    },
    {
      "cell_type": "code",
      "execution_count": null,
      "id": "736af375",
      "metadata": {
        "id": "736af375"
      },
      "outputs": [],
      "source": [
        "# YOUR CODE HERE ᕦ(ò_óˇ)ᕤ"
      ]
    },
    {
      "cell_type": "markdown",
      "id": "b66bf138",
      "metadata": {
        "id": "b66bf138"
      },
      "source": [
        "<font color=#c30>**[0.25]**</font> Train a simple linear regression model, and rank it using test set. How well the model is doing?"
      ]
    },
    {
      "cell_type": "code",
      "execution_count": null,
      "id": "5a7c1ccb",
      "metadata": {
        "id": "5a7c1ccb"
      },
      "outputs": [],
      "source": [
        "# YOUR CODE HERE ᕦ(ò_óˇ)ᕤ"
      ]
    },
    {
      "cell_type": "markdown",
      "id": "76f6825d",
      "metadata": {
        "id": "76f6825d"
      },
      "source": [
        "<font color=#c30>**[0.1]**</font> Answer the following question:\n",
        "\n",
        "* From a simple linear regression model point of view, are the largest weights always the most important ones?"
      ]
    },
    {
      "cell_type": "markdown",
      "id": "4cbf1f77",
      "metadata": {
        "id": "4cbf1f77"
      },
      "source": [
        "<font color=#c30>**[0.25]**</font> Obtain weights of the linear regression equation for this model and interpret them."
      ]
    },
    {
      "cell_type": "code",
      "execution_count": null,
      "id": "d7584c53",
      "metadata": {
        "id": "d7584c53"
      },
      "outputs": [],
      "source": [
        "# YOUR CODE HERE ᕦ(ò_óˇ)ᕤ"
      ]
    },
    {
      "cell_type": "markdown",
      "id": "7bbfd832",
      "metadata": {
        "id": "7bbfd832"
      },
      "source": [
        "<font color=#c30>**[0.25]**</font>\n",
        "* What are residuals?\n",
        "* Make a residuals vs predictions plot below.\n",
        "* What do you observe?"
      ]
    },
    {
      "cell_type": "code",
      "execution_count": null,
      "id": "18ac570b",
      "metadata": {
        "id": "18ac570b"
      },
      "outputs": [],
      "source": [
        "# YOUR CODE HERE ᕦ(ò_óˇ)ᕤ"
      ]
    },
    {
      "cell_type": "markdown",
      "id": "824d455c",
      "metadata": {
        "id": "824d455c"
      },
      "source": [
        "<font color=#c30>**[0.25]**</font> Now train the Lasso regression model. On a logarithmic scale, search for the optimal value of the regularization coefficient alpha."
      ]
    },
    {
      "cell_type": "code",
      "execution_count": null,
      "id": "8771aa37",
      "metadata": {
        "id": "8771aa37"
      },
      "outputs": [],
      "source": [
        "# YOUR CODE HERE ᕦ(ò_óˇ)ᕤ"
      ]
    },
    {
      "cell_type": "markdown",
      "id": "f173d29f",
      "metadata": {
        "id": "f173d29f"
      },
      "source": [
        "<font color=#c30>**[0.25]**</font> For each sampled alpha for Lasso, count the number of zero weights in the model and plot its dependence on alpha. How much will we have to lose in prediction quality if we want to get rid of at least half of the features using Lasso?"
      ]
    },
    {
      "cell_type": "code",
      "execution_count": null,
      "id": "fe00c71d",
      "metadata": {
        "id": "fe00c71d"
      },
      "outputs": [],
      "source": [
        "# YOUR CODE HERE ᕦ(ò_óˇ)ᕤ"
      ]
    },
    {
      "cell_type": "markdown",
      "id": "42074e01",
      "metadata": {
        "id": "42074e01"
      },
      "source": [
        "<font color=#c30>**[0.5]**</font> Train and optimize hyperparameters for Elastic Net, Ridge and Lasso models. Justify the parameters grid for each model. What number of cross-validation folds did you use? Why?"
      ]
    },
    {
      "cell_type": "code",
      "execution_count": null,
      "id": "e1dfc82f",
      "metadata": {
        "id": "e1dfc82f"
      },
      "outputs": [],
      "source": [
        "# YOUR CODE HERE ᕦ(ò_óˇ)ᕤ"
      ]
    },
    {
      "cell_type": "markdown",
      "id": "c9478edc",
      "metadata": {
        "id": "c9478edc"
      },
      "source": [
        "<font color=#c30>**[1]**</font> Use test set to rank optimized models. Describe and interpret results."
      ]
    },
    {
      "cell_type": "code",
      "execution_count": null,
      "id": "96748f9e",
      "metadata": {
        "id": "96748f9e"
      },
      "outputs": [],
      "source": [
        "# YOUR CODE HERE ᕦ(ò_óˇ)ᕤ"
      ]
    },
    {
      "cell_type": "markdown",
      "id": "786695c7",
      "metadata": {
        "id": "786695c7"
      },
      "source": [
        "<font color=#c30>**[1]**</font> Perform a feature importance analysis for all models, interpret the results, and make appropriate comparisons."
      ]
    },
    {
      "cell_type": "code",
      "execution_count": null,
      "id": "26e1c909",
      "metadata": {
        "id": "26e1c909"
      },
      "outputs": [],
      "source": [
        "# YOUR CODE HERE ᕦ(ò_óˇ)ᕤ"
      ]
    },
    {
      "cell_type": "markdown",
      "id": "62741cdb",
      "metadata": {
        "id": "62741cdb"
      },
      "source": [
        "<font color=#c30>**[1]**</font> Answer the following questions:\n",
        "\n",
        "* Which model works the best with cholesterol data? Explain, what could be the reason for it.\n",
        "* Based on your analysis above, have you found expected/unexpected important features? Is the connection with cholesterol level seems logical?\n",
        "* Would you suggest to use that model to a doctor or use it in a real study?"
      ]
    },
    {
      "cell_type": "markdown",
      "id": "b9f632ab",
      "metadata": {
        "id": "b9f632ab"
      },
      "source": [
        "# Extra points <font color=#c30>**[2]**</font>"
      ]
    },
    {
      "cell_type": "markdown",
      "source": [
        "In this part, you are tasked with implementing and testing two gradient descent methods for linear regression: classical GD and it's stochastic version. First, we generate some synthetic data for you to test on. You can change the values of variables, but note that your code should work with any given values."
      ],
      "metadata": {
        "id": "o_GJMLDMOfkj"
      },
      "id": "o_GJMLDMOfkj"
    },
    {
      "cell_type": "code",
      "source": [
        "n_features = 5\n",
        "n_objects = 1500\n",
        "\n",
        "# Generate true weights\n",
        "w_true = np.random.normal(size=(n_features,))\n",
        "\n",
        "# Generate features and target variable based on true weights\n",
        "X = np.random.uniform(-5, 5, (n_objects, n_features))\n",
        "X *= (np.arange(n_features) * 2 + 1)[np.newaxis, :]\n",
        "Y = X.dot(w_true) + np.random.normal(0, 1, (n_objects))\n",
        "\n",
        "# Generate random initial weights\n",
        "w_0 = np.random.uniform(-2, 2, (n_features))"
      ],
      "metadata": {
        "id": "Zc9QsPkzrWVr"
      },
      "id": "Zc9QsPkzrWVr",
      "execution_count": 2,
      "outputs": []
    },
    {
      "cell_type": "markdown",
      "id": "4cd4ff6b",
      "metadata": {
        "id": "4cd4ff6b"
      },
      "source": [
        "* Implement GD and SGD for linear regression from scrath. You can reuse code from seminar.\n",
        "* Implemented methods must work with any number of input features."
      ]
    },
    {
      "cell_type": "code",
      "source": [
        "def GD(X, y, w_0, max_iter=500, learning_rate=0.05):\n",
        "    \"\"\"\n",
        "    Implementation of Gradient Descent by scratch.\n",
        "\n",
        "    :parameters:\n",
        "    X : np.ndarray, shape (n_objects, n_features)\n",
        "        Input matrix of features.\n",
        "    y : np.ndarray, shape (n_features, )\n",
        "        Target variable vector.\n",
        "    w_0 : np.ndarray, shape (n_objects, )\n",
        "        Initial weights vector.\n",
        "    max_iter: int\n",
        "        Maximum number of GD iterations.\n",
        "    learning_rate: float\n",
        "        Learning rate coefficient of GD.\n",
        "\n",
        "    :returns: list, updated weights array and MSE scores history\n",
        "    \"\"\"\n",
        "\n",
        "    # YOUR CODE HERE ᕦ(ò_óˇ)ᕤ\n",
        "    return [w, mse_scores]\n",
        "\n",
        "def SGD(X, y, w_0, max_iter=500, batch_size=10, learning_rate=0.05):\n",
        "    \"\"\"\n",
        "    Implementation of Stochastic Gradient Descent by scratch.\n",
        "\n",
        "    :parameters:\n",
        "    X : np.ndarray, shape (n_objects, n_features)\n",
        "        Input matrix of features.\n",
        "    y : np.ndarray, shape (n_features, )\n",
        "        Target variable vector.\n",
        "    w_0 : np.ndarray, shape (n_objects, )\n",
        "        Initial weights vector.\n",
        "    max_iter: int\n",
        "        Maximum number of GD iterations.\n",
        "    batch_size: int\n",
        "        Batch size.\n",
        "    learning_rate: float\n",
        "        Learning rate coefficient of GD.\n",
        "\n",
        "    :returns: list with updated weights array and MSE scores history\n",
        "    \"\"\"\n",
        "\n",
        "    # YOUR CODE HERE ᕦ(ò_óˇ)ᕤ\n",
        "    return [w, mse_scores]"
      ],
      "metadata": {
        "id": "wBod61iVpZg-"
      },
      "id": "wBod61iVpZg-",
      "execution_count": 21,
      "outputs": []
    },
    {
      "cell_type": "markdown",
      "source": [
        "* Make a plot that represent how MSE changes with each step. Find out what learning rate and batch size work best for this case. Compare how quickly each method converges."
      ],
      "metadata": {
        "id": "WXUghBLKNhUz"
      },
      "id": "WXUghBLKNhUz"
    },
    {
      "cell_type": "code",
      "execution_count": null,
      "id": "373b2bf5",
      "metadata": {
        "id": "373b2bf5"
      },
      "outputs": [],
      "source": [
        "# YOUR CODE HERE ᕦ(ò_óˇ)ᕤ"
      ]
    },
    {
      "cell_type": "markdown",
      "source": [
        "* Do the same for cholesterol dataset. Is SGD applicable for this dataset or not?"
      ],
      "metadata": {
        "id": "x7EEZarZPD_Y"
      },
      "id": "x7EEZarZPD_Y"
    },
    {
      "cell_type": "code",
      "source": [
        "# YOUR CODE HERE ᕦ(ò_óˇ)ᕤ"
      ],
      "metadata": {
        "id": "yN1XL_zBP_Qv"
      },
      "id": "yN1XL_zBP_Qv",
      "execution_count": null,
      "outputs": []
    }
  ],
  "metadata": {
    "kernelspec": {
      "display_name": "Python 3",
      "language": "python",
      "name": "python3"
    },
    "language_info": {
      "codemirror_mode": {
        "name": "ipython",
        "version": 3
      },
      "file_extension": ".py",
      "mimetype": "text/x-python",
      "name": "python",
      "nbconvert_exporter": "python",
      "pygments_lexer": "ipython3",
      "version": "3.7.7"
    },
    "colab": {
      "provenance": []
    }
  },
  "nbformat": 4,
  "nbformat_minor": 5
}