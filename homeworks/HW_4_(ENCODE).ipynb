{
  "nbformat": 4,
  "nbformat_minor": 0,
  "metadata": {
    "colab": {
      "provenance": []
    },
    "kernelspec": {
      "name": "python3",
      "display_name": "Python 3"
    },
    "language_info": {
      "name": "python"
    }
  },
  "cells": [
    {
      "cell_type": "markdown",
      "source": [
        "First of all, a few notes:\n",
        "* Getting to know ENCODE might be challenging. If you have not attented the seminar, here are few slides to explain, how to download ENCODE data in the context of this homework: https://github.com/alllirik/hse_ml_bioinf/blob/main/homeworks/HW-4%20Guide.pdf\n",
        "* Check the seventh seminar where we preprocess ENCODE data.\n",
        "* Comment and describe! To give you a high grade, we need to understand that you interpreted all results correctly.\n",
        "\n",
        "Remember to submit the feedback! Especially if the homework was too difficult or easy for you."
      ],
      "metadata": {
        "id": "h6rXJxY5aClz"
      }
    },
    {
      "cell_type": "markdown",
      "source": [
        "# Introduction [2.5]\n",
        "\n",
        "This homework is heavily based on the seminar material. Make sure you have it at hand - it should help a lot.\n",
        "\n",
        "Also, it is intentended that you use this data in the next homework."
      ],
      "metadata": {
        "id": "pHJmy6k1bJm2"
      }
    },
    {
      "cell_type": "markdown",
      "source": [
        "## Know your protocols\n",
        "\n",
        "During the seminar, we covered basic ideas behind ChIP/ATAC-seq protocols. However, you must understand your data clearly before analyzing it.\n",
        "\n",
        "So here are a few questions:\n",
        "* [0.3] List the main experimental(!) steps of the ChIP-seq protocol, its main advantages, and limitations.\n",
        "\n",
        "→\n",
        "\n",
        "* [0.3] Please, do the same for the ATAC-seq protocol.\n",
        "\n",
        "→\n",
        "\n",
        "* [0.3] Are these experiments universal, or should they be repeated for each culture of interest? Why?\n",
        "\n",
        "→\n",
        "\n",
        "* [0.6] Provide a summary of the typical bioinformatic analysis for these assays. (You can/should use information provided in association graph from choosen ENCODE experiment of interest). What is Irreproducibility Discovery Rate (IDR)? What's the difference between regular replicas and pseudoreplicas in terms of IDR?\n",
        "\n",
        "→"
      ],
      "metadata": {
        "id": "S5r1z_c1bJsY"
      }
    },
    {
      "cell_type": "markdown",
      "source": [
        "## Target transcription factors\n",
        "\n",
        "Overall, you need to repeat our seminar work, but this time with more transcriptional factors. I deliberately did not choose any TFs for you, so you can pick your favorite one or just some proteins that look interesting to you.\n",
        "\n",
        "Here is the task:\n",
        "\n",
        "[1] Use ENCODE database and pick a tissue or cell culture with a published ATAC-seq experiment and ***3*** ChIP-seq experiments (for your favorite **transcription factors**). **Ensure all experiments are from the same culture and pass routine ENCODE checks.** Provide links to experiments and descriptions of your TFs below.\n",
        "\n",
        "e.g.\n",
        " * TF-1: ...\n",
        " * TF-2: ...\n",
        " * TF-3: ...\n",
        " * ATAC-seq: ...\n",
        "\n",
        "\n",
        " →"
      ],
      "metadata": {
        "id": "aiit4jH9dMmz"
      }
    },
    {
      "cell_type": "markdown",
      "source": [
        "# Data preprocessing [7.5]"
      ],
      "metadata": {
        "id": "_tGA0Ysjig-t"
      }
    },
    {
      "cell_type": "markdown",
      "source": [
        "[5]\n",
        "Implement the main workflow in line with classroom material:\n",
        "* Download regions\n",
        "* Calculate intersections / subtractions\n",
        "  * Binding sites for TF can overlap; this is expected. However, here we will use a simplistic worldview and drop such situations. That is, you need to keep and process only specific sites for each TF. If it's not possible - pick a different set of transcription factors.\n",
        "* Get sequences\n",
        "* Calculate k-mers\n",
        "* One-hot encode classes\n",
        "* Download your dataset and save it for the next homework\n"
      ],
      "metadata": {
        "id": "VbKjUd_fikGc"
      }
    },
    {
      "cell_type": "code",
      "source": [
        "# Your code...."
      ],
      "metadata": {
        "id": "9sH0T27MoWyY"
      },
      "execution_count": null,
      "outputs": []
    },
    {
      "cell_type": "markdown",
      "source": [
        "\n",
        "[1] Create a histogram showing the distribution of region sizes (check seminar).\n"
      ],
      "metadata": {
        "id": "mYRHbC4MZ6pE"
      }
    },
    {
      "cell_type": "code",
      "source": [
        "# Your code...."
      ],
      "metadata": {
        "id": "VFToQVtmmi3U"
      },
      "execution_count": null,
      "outputs": []
    },
    {
      "cell_type": "markdown",
      "source": [
        "[1.5] Calculate two tables showing overlaps between all experiments: before (basically with raw regions) and after calculating intersection/subtractions. The tables should look like this:"
      ],
      "metadata": {
        "id": "Fj3yegZKmlEQ"
      }
    },
    {
      "cell_type": "markdown",
      "source": [
        "<img src=\"https://drive.google.com/uc?export=view&id=1mbGgAcLagrgIuYhkEST0Uo-duIfAW6oh\" width=\"250\"/>"
      ],
      "metadata": {
        "id": "HMJDPkLMDg-p"
      }
    },
    {
      "cell_type": "markdown",
      "source": [
        "\n",
        "(You don't need to make it identical to this picture. Only make sure to plot the legend and labels.)"
      ],
      "metadata": {
        "id": "63Am7LaHDW8T"
      }
    },
    {
      "cell_type": "code",
      "source": [
        "# Your code...."
      ],
      "metadata": {
        "id": "q-_v6YtRikyA"
      },
      "execution_count": null,
      "outputs": []
    },
    {
      "cell_type": "markdown",
      "source": [
        "Self-check here!\n",
        "\n",
        "You should expect no overlap between TFs. Also, each TF should intersect with ATAC-seq regions. For more info, read the guide for this homework."
      ],
      "metadata": {
        "id": "5gTYj0cikABW"
      }
    }
  ]
}