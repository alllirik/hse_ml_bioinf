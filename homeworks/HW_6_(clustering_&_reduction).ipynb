{
  "nbformat": 4,
  "nbformat_minor": 0,
  "metadata": {
    "colab": {
      "provenance": []
    },
    "kernelspec": {
      "name": "python3",
      "display_name": "Python 3"
    },
    "language_info": {
      "name": "python"
    }
  },
  "cells": [
    {
      "cell_type": "markdown",
      "source": [
        "First of all, a few notes:\n",
        "* As before, no code hints. We trust your skills (if in doubt - check the seminar notebook).\n",
        "* Remember to submit the feedback! Especially if the homework was too difficult or easy for you."
      ],
      "metadata": {
        "id": "h6rXJxY5aClz"
      }
    },
    {
      "cell_type": "markdown",
      "source": [
        "# Introduction <font color=#c30>**[1.0]**</font>\n",
        "\n"
      ],
      "metadata": {
        "id": "pHJmy6k1bJm2"
      }
    },
    {
      "cell_type": "markdown",
      "source": [
        "\n",
        "## scRNA-seq\n",
        "\n",
        "We **must** know our data before doing the analysis. To ease your life, [here](https://www.singlecellcourse.org/introduction-to-single-cell-rna-seq.html) is an excellent state-of-the-art description of the scRNA-seq experiments. Read it and answer the following questions:\n",
        "\n",
        "* <font color=#c30>**[0.2]**</font> What is single-cell RNA-seq and how does it compare to bulk RNA-seq?\n",
        "\n",
        "→\n",
        "\n",
        "* <font color=#c30>**[0.2]**</font>  What are some of the typical applications of scRNA-seq?\n",
        "\n",
        "→\n",
        "\n",
        "* <font color=#c30>**[0.2]**</font>  What experimental design choices should be considered in scRNA-seq?\n",
        "\n",
        "→\n",
        "\n",
        "* <font color=#c30>**[0.2]**</font>  What are some of the challenges of scRNA-seq data compared to bulk data?\n",
        "\n",
        "→"
      ],
      "metadata": {
        "id": "ttgpzyjGkdp3"
      }
    },
    {
      "cell_type": "markdown",
      "source": [
        "## Target experiment\n",
        "\n",
        "To move on, you need to find/choose and download your favorite scRNA-seq dataset. Similar to what we did during the workshop, but everyone will have their own data to make it more fun.\n",
        "\n",
        "See, for example, public [10x datasets](https://www.10xgenomics.com/resources/datasets?menu%5Bproducts.name%5D=Single%20Cell%20Gene%20Expression&query=&page=1&configure%5Bfacets%5D%5B0%5D=chemistryVersionAndThroughput&configure%5Bfacets%5D%5B1%5D=pipeline.version&configure%5BhitsPerPage%5D=50&configure%5BmaxValuesPerFacet%5D=1000&refinementList%5Bproduct.name%5D%5B0%5D=Single%20Cell%20Gene%20Expression) or [GEO](https://www.ncbi.nlm.nih.gov/gds/?term=scRNA-seq). Subsample cells or use more strict thresholds if the computations are too long.\n",
        "\n",
        "* <font color=#c30>**[0.2]**</font>  Please provide a brief description of the chosen dataset. I.e., what was the purpose of the original study, what is the protocol, and so on. Insert link to the dataset.\n",
        "\n",
        "→"
      ],
      "metadata": {
        "id": "aiit4jH9dMmz"
      }
    },
    {
      "cell_type": "markdown",
      "source": [
        "# Main flow <font color=#c30>**[7.5]**</font>"
      ],
      "metadata": {
        "id": "dNHW2IQJqIaO"
      }
    },
    {
      "cell_type": "markdown",
      "source": [
        "Simple and tedious, you need to repeat the seminar results with your data and implement some algorithms by hand.\n",
        "\n",
        "* <font color=#c30>**[2.5]**</font>  Repeat the main workflow: load & preprocess the data -> calculate PCA, UMAP, t-SNE -> color cells using K-means / Agg. Clustering / Leiden algorithms.\n",
        "\n",
        "\n",
        "\n"
      ],
      "metadata": {
        "id": "0awh0_2pqMS7"
      }
    },
    {
      "cell_type": "code",
      "source": [
        "# your code here"
      ],
      "metadata": {
        "id": "aV2fBFA_rv4Z"
      },
      "execution_count": null,
      "outputs": []
    },
    {
      "cell_type": "markdown",
      "source": [
        "\n",
        "* <font color=#c30>**[1]**</font>  Make several plots showing how the representation of data is changing for UMAP & t-SNE by tweaking parameters of those algorithms. For the representation of your choice, find optimal number of clusters by tweaking `n_clusters` in K-means and `resolution` in Leiden algorithm. What was the optimal number of clusters for your dataset? Justify your choice."
      ],
      "metadata": {
        "id": "-sz9vj1crvvC"
      }
    },
    {
      "cell_type": "code",
      "source": [
        "# your code here"
      ],
      "metadata": {
        "id": "yKWiXIP6rslx"
      },
      "execution_count": null,
      "outputs": []
    },
    {
      "cell_type": "markdown",
      "source": [
        "* <font color=#c30>**[1.5]**</font>  Analyze your clusters and identify if any of them is an outlier in terms of technical scRNA characteristics, such as:  number of UMIs per cell, number of genes per cell, percentage of mitochondrial expression? Are there any clusters with high doublet scores? Make relevant visualizations showcasing those differences.\n",
        "\n",
        "  * If there are, what is the best way to deal with them? Are the differences between the cluster you selected and the other clusters reliable?\n"
      ],
      "metadata": {
        "id": "IN3t2LStrsbk"
      }
    },
    {
      "cell_type": "code",
      "source": [
        "# your code here"
      ],
      "metadata": {
        "id": "IfT6BBYZrqUL"
      },
      "execution_count": null,
      "outputs": []
    },
    {
      "cell_type": "markdown",
      "source": [
        "* <font color=#c30>**[1]**</font>  Visualize `10` top expressed genes in each cluster. To do this, make use of:\n",
        "1. `sc.tl.rank_genes_groups` to rank genes for characterizing groups (cluster labels).\n",
        "  * [Hint] The default statistical method in `rank_gene_groups` is t-test. Think of whether this method is the correct choice here (e.g. Do we have normal distributions in our data?), look up what options do you have in this fuction, and change it if you see the need to do so.\n",
        "  * [Hint] Also read about `Tie_correct` parameter.\n",
        "2. `sc.pl.rank_genes_groups` to plot ranking of genes for each cluster.\n",
        "3. `sc.pl.rank_genes_groups_heatmap` to plot ranking of genes using heatmap plot.\\\n",
        "  * [Hint] Instead of the heatmap, you might want to use some other visualization that you find most fitting. You can use [this tutorial](https://scanpy-tutorials.readthedocs.io/en/latest/plotting/core.html) to find more info about scanpy plotting functions.\n"
      ],
      "metadata": {
        "id": "RZowVDC7rqFd"
      }
    },
    {
      "cell_type": "code",
      "source": [
        "# your code here"
      ],
      "metadata": {
        "id": "GHUdjKLprlbb"
      },
      "execution_count": null,
      "outputs": []
    },
    {
      "cell_type": "markdown",
      "source": [
        "* <font color=#c30>**[1.5]**</font>  Do one of the following:\n",
        "  * Either provide formal algorithm and implementation of K-means with random initialization by hand, describe results, and compare them to the sklearn implementation.\n",
        "  * Or do the same for PCA.\\\n",
        "    *Note that completing both assignments does NOT result in [3.0] points.*"
      ],
      "metadata": {
        "id": "RWxdVpilrk22"
      }
    },
    {
      "cell_type": "code",
      "source": [
        "# your code here"
      ],
      "metadata": {
        "id": "VaG2zvrgrkOb"
      },
      "execution_count": null,
      "outputs": []
    },
    {
      "cell_type": "markdown",
      "source": [
        "# Extra points <font color=#c30>**[1.5]**</font>\n",
        "\n"
      ],
      "metadata": {
        "id": "P2EuwzDXqRff"
      }
    },
    {
      "cell_type": "markdown",
      "source": [
        "* <font color=#c30>**[1.4]**</font>  Choose 3 clusters of interest and try to make a guess about their cell type based on the top-expressed genes. For example, look for information on whether such high expression of a certain gene is typical of some cell type.\n",
        "  * Blind answers from ChatGPT won't be accepted. Please look for information from multiple sources, cite them/insert links, and formulate your own opinion.\n",
        "  * You can also use automatic annotators like Azimuth and Symphony for the whole dataset, but probably it will take much longer time to figure out how they work."
      ],
      "metadata": {
        "id": "Yy7kTFaSsBTe"
      }
    },
    {
      "cell_type": "code",
      "source": [
        "# your code here"
      ],
      "metadata": {
        "id": "5JiR2qdNsApw"
      },
      "execution_count": null,
      "outputs": []
    },
    {
      "cell_type": "markdown",
      "source": [
        "\n",
        "\n",
        "You worked hard to get here, and we hope you learned something new!\n",
        "Each year we gather impressions and suggestions regarding our course in order to improve it. Find time to write a review here or in anonymous form (can be found on github course page).\n",
        "\n",
        "The last task:\n",
        "\n",
        "* <font color=#c30>**[0.1]**</font>  To greatly increase the chances of your success in the bioinformatics field, find a funny meme (about your favourite subject, like ML, molecular biology, etc.) and attach it here."
      ],
      "metadata": {
        "id": "7AH32vXy_5pz"
      }
    },
    {
      "cell_type": "markdown",
      "source": [
        "** your meme here **"
      ],
      "metadata": {
        "id": "AdgkgJlKrarL"
      }
    }
  ]
}